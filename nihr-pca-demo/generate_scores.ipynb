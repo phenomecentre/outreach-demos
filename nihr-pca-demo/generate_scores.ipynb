{
 "cells": [
  {
   "cell_type": "code",
   "execution_count": 1,
   "metadata": {},
   "outputs": [],
   "source": [
    "import pandas as pd\n",
    "import numpy as np\n",
    "\n",
    "def generate_scores_per_category(scores_map,sample_id_map,category):\n",
    "    \n",
    "    if category == \"healthy\":\n",
    "        min_x = -0.75\n",
    "        max_x = -0.1\n",
    "        min_y = -0.75\n",
    "        max_y = -0.1\n",
    "    elif category == \"athlete\":\n",
    "        min_x = -0.5\n",
    "        max_x = 0\n",
    "        min_y = -0.3\n",
    "        max_y = 0.3\n",
    "    elif category == \"diabetes\":\n",
    "        min_x = 0.5\n",
    "        max_x = 0.9\n",
    "        min_y = 0.5\n",
    "        max_y = 0.9 \n",
    "    elif category == \"protein in urine\":\n",
    "        min_x = 0.3\n",
    "        max_x = 0.8\n",
    "        min_y = -0.8\n",
    "        max_y = -0.3    \n",
    "\n",
    "    pc1 = np.random.uniform(low=min_x, high=max_x, size=(len(sample_id_map[category]),)).tolist()    \n",
    "    pc2 = np.random.uniform(low=min_y, high=max_y, size=(len(sample_id_map[category]),)).tolist()\n",
    "    scores_map[\"pc1\"] = scores_map[\"pc1\"] + pc1\n",
    "    scores_map[\"pc2\"] = scores_map[\"pc2\"] + pc2\n",
    "    scores_map[\"sample_id\"] = scores_map[\"sample_id\"] + sample_id_map[category]\n",
    "    scores_map[\"category\"] = scores_map[\"category\"] + ([category] * len(sample_id_map[category]))\n",
    "                                                       \n",
    "    return scores_map\n",
    "    \n",
    "def generate_scores_map(sample_id_map):\n",
    "    \n",
    "    scores_map = {\"pc1\":[],\"pc2\":[],\"sample_id\":[],\"category\":[]}\n",
    "        \n",
    "    scores_map = generate_scores_per_category(scores_map,sample_id_map,'healthy')\n",
    "    scores_map = generate_scores_per_category(scores_map,sample_id_map,'athlete')\n",
    "    scores_map = generate_scores_per_category(scores_map,sample_id_map,'diabetes')\n",
    "    scores_map = generate_scores_per_category(scores_map,sample_id_map,'protein in urine')\n",
    "    \n",
    "    return scores_map\n"
   ]
  },
  {
   "cell_type": "code",
   "execution_count": 2,
   "metadata": {},
   "outputs": [],
   "source": [
    "sample_id_map = {'healthy':[\"a1\",\"a2\",\"a3\",\"a4\",\"a5\",\"a6\",\"a7\",\"a8\",\"a9\",\"a10\",\"a11\",\"a12\"],\n",
    "              'athlete':[\"a13\",\"a14\",\"a15\",\"a16\",\"a17\",\"a18\",\"a19\",\"a20\",\"a21\"],\n",
    "              'diabetes':[\"a22\",\"a23\",\"a24\",\"a25\",\"a25\",\"a26\",\"a27\",\"a28\",\"a29\"],\n",
    "              'protein in urine':[\"a30\",\"a31\",\"a32\",\"a33\",\"a34\",\"a35\",\"a36\",\"a37\"]}\n",
    "\n",
    "scores_map = generate_scores_map(sample_id_map)\n",
    "scores = pd.DataFrame(scores_map)\n",
    "\n",
    "scores.to_csv(path_or_buf=\"./scores_dataframe.csv\")"
   ]
  }
 ],
 "metadata": {
  "kernelspec": {
   "display_name": "Python 3",
   "language": "python",
   "name": "python3"
  },
  "language_info": {
   "codemirror_mode": {
    "name": "ipython",
    "version": 3
   },
   "file_extension": ".py",
   "mimetype": "text/x-python",
   "name": "python",
   "nbconvert_exporter": "python",
   "pygments_lexer": "ipython3",
   "version": "3.7.4"
  }
 },
 "nbformat": 4,
 "nbformat_minor": 2
}
