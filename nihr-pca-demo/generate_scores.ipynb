{
 "cells": [
  {
   "cell_type": "code",
   "execution_count": 3,
   "metadata": {},
   "outputs": [],
   "source": [
    "import pandas as pd\n",
    "import numpy as np\n",
    "\n",
    "def generate_scores_per_category(scores_map,sample_id_map,category):\n",
    "    \n",
    "    if category == \"normal\":\n",
    "        min_x = -0.75\n",
    "        max_x = -0.1\n",
    "        min_y = -0.75\n",
    "        max_y = -0.1\n",
    "        demo_sample_x = -0.4374997\n",
    "        demo_sample_y = -0.594745\n",
    "    elif category == \"athlete\":\n",
    "        min_x = -0.5\n",
    "        max_x = 0\n",
    "        min_y = -0.3\n",
    "        max_y = 0.3\n",
    "        demo_sample_x = -0.1876002\n",
    "        demo_sample_y = 0.1567131\n",
    "    elif category == \"glucose\":\n",
    "        min_x = 0.5\n",
    "        max_x = 0.9\n",
    "        min_y = 0.5\n",
    "        max_y = 0.9 \n",
    "        demo_sample_x = 0.6794406\n",
    "        demo_sample_y = 0.7833504\n",
    "    elif category == \"protein\":\n",
    "        min_x = 0.3\n",
    "        max_x = 0.8\n",
    "        min_y = -0.8\n",
    "        max_y = -0.3    \n",
    "        demo_sample_x = 0.5992577\n",
    "        demo_sample_y = -0.4604734\n",
    "\n",
    "    pc1 = [demo_sample_x]    \n",
    "    pc1 = pc1 + np.random.uniform(low=min_x, high=max_x, size=(len(sample_id_map[category])-1,)).tolist()    \n",
    "    pc2 = [demo_sample_y]\n",
    "    pc2 = pc2 + np.random.uniform(low=min_y, high=max_y, size=(len(sample_id_map[category])-1,)).tolist()\n",
    "    scores_map[\"pc1\"] = scores_map[\"pc1\"] + pc1\n",
    "    scores_map[\"pc2\"] = scores_map[\"pc2\"] + pc2\n",
    "    scores_map[\"sample_id\"] = scores_map[\"sample_id\"] + sample_id_map[category]\n",
    "    scores_map[\"category\"] = scores_map[\"category\"] + ([category] * len(sample_id_map[category]))\n",
    "                                                       \n",
    "    return scores_map\n",
    "    \n",
    "def generate_scores_map(sample_id_map):\n",
    "    \n",
    "    scores_map = {\"pc1\":[],\"pc2\":[],\"sample_id\":[],\"category\":[]}\n",
    "        \n",
    "    scores_map = generate_scores_per_category(scores_map,sample_id_map,'normal')\n",
    "    scores_map = generate_scores_per_category(scores_map,sample_id_map,'athlete')\n",
    "    scores_map = generate_scores_per_category(scores_map,sample_id_map,'glucose')\n",
    "    scores_map = generate_scores_per_category(scores_map,sample_id_map,'protein')\n",
    "    \n",
    "    return scores_map\n"
   ]
  },
  {
   "cell_type": "code",
   "execution_count": 4,
   "metadata": {},
   "outputs": [],
   "source": [
    "#310:Normal\n",
    "#130:Athlete\n",
    "#840:Glucose\n",
    "#640:Protein\n",
    "\n",
    "# First entry in each list is the demo sample for that group\n",
    "\n",
    "sample_id_map = {'normal':[\"Spectra/310\",\"a1\",\"a2\",\"a3\",\"a4\",\"a5\",\"a6\",\"a7\",\"a8\",\"a9\",\"a10\",\"a11\",\"a12\"],\n",
    "              'athlete':[\"Spectra/130\",\"a13\",\"a14\",\"a15\",\"a16\",\"a17\",\"a18\",\"a19\",\"a20\",\"a21\"],\n",
    "              'glucose':[\"Spectra/840\",\"a22\",\"a23\",\"a24\",\"a25\",\"a25\",\"a27\",\"a28\",\"a29\"],\n",
    "              'protein':[\"Spectra/640\",\"a30\",\"a31\",\"a33\",\"a34\",\"a35\",\"a36\",\"a37\"]}\n",
    "\n",
    "scores_map = generate_scores_map(sample_id_map)\n",
    "scores = pd.DataFrame(scores_map)\n",
    "\n",
    "scores.to_csv(path_or_buf=\"./scores.csv\")"
   ]
  },
  {
   "cell_type": "code",
   "execution_count": null,
   "metadata": {},
   "outputs": [],
   "source": []
  }
 ],
 "metadata": {
  "kernelspec": {
   "display_name": "Python 3",
   "language": "python",
   "name": "python3"
  },
  "language_info": {
   "codemirror_mode": {
    "name": "ipython",
    "version": 3
   },
   "file_extension": ".py",
   "mimetype": "text/x-python",
   "name": "python",
   "nbconvert_exporter": "python",
   "pygments_lexer": "ipython3",
   "version": "3.7.4"
  }
 },
 "nbformat": 4,
 "nbformat_minor": 2
}
